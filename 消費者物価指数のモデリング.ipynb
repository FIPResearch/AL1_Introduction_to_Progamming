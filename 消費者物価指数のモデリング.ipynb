{
  "nbformat": 4,
  "nbformat_minor": 0,
  "metadata": {
    "colab": {
      "provenance": [],
      "authorship_tag": "ABX9TyOXgkpZxlPoXB5CnbCkk+aW",
      "include_colab_link": true
    },
    "kernelspec": {
      "name": "python3",
      "display_name": "Python 3"
    },
    "language_info": {
      "name": "python"
    }
  },
  "cells": [
    {
      "cell_type": "markdown",
      "metadata": {
        "id": "view-in-github",
        "colab_type": "text"
      },
      "source": [
        "<a href=\"https://colab.research.google.com/github/YosukeSugiura/Introduction_to_Programming/blob/minor/%E6%B6%88%E8%B2%BB%E8%80%85%E7%89%A9%E4%BE%A1%E6%8C%87%E6%95%B0%E3%81%AE%E3%83%A2%E3%83%87%E3%83%AA%E3%83%B3%E3%82%B0.ipynb\" target=\"_parent\"><img src=\"https://colab.research.google.com/assets/colab-badge.svg\" alt=\"Open In Colab\"/></a>"
      ]
    },
    {
      "cell_type": "code",
      "source": [
        "!pip install japanize_matplotlib"
      ],
      "metadata": {
        "colab": {
          "base_uri": "https://localhost:8080/"
        },
        "id": "HVui5He6m0r2",
        "outputId": "f6488bd8-265c-4235-e251-8af90249014c"
      },
      "execution_count": 1,
      "outputs": [
        {
          "output_type": "stream",
          "name": "stdout",
          "text": [
            "Looking in indexes: https://pypi.org/simple, https://us-python.pkg.dev/colab-wheels/public/simple/\n",
            "Collecting japanize_matplotlib\n",
            "  Downloading japanize-matplotlib-1.1.3.tar.gz (4.1 MB)\n",
            "\u001b[2K     \u001b[90m━━━━━━━━━━━━━━━━━━━━━━━━━━━━━━━━━━━━━━━━\u001b[0m \u001b[32m4.1/4.1 MB\u001b[0m \u001b[31m51.6 MB/s\u001b[0m eta \u001b[36m0:00:00\u001b[0m\n",
            "\u001b[?25h  Preparing metadata (setup.py) ... \u001b[?25l\u001b[?25hdone\n",
            "Requirement already satisfied: matplotlib in /usr/local/lib/python3.8/dist-packages (from japanize_matplotlib) (3.2.2)\n",
            "Requirement already satisfied: pyparsing!=2.0.4,!=2.1.2,!=2.1.6,>=2.0.1 in /usr/local/lib/python3.8/dist-packages (from matplotlib->japanize_matplotlib) (3.0.9)\n",
            "Requirement already satisfied: kiwisolver>=1.0.1 in /usr/local/lib/python3.8/dist-packages (from matplotlib->japanize_matplotlib) (1.4.4)\n",
            "Requirement already satisfied: numpy>=1.11 in /usr/local/lib/python3.8/dist-packages (from matplotlib->japanize_matplotlib) (1.21.6)\n",
            "Requirement already satisfied: cycler>=0.10 in /usr/local/lib/python3.8/dist-packages (from matplotlib->japanize_matplotlib) (0.11.0)\n",
            "Requirement already satisfied: python-dateutil>=2.1 in /usr/local/lib/python3.8/dist-packages (from matplotlib->japanize_matplotlib) (2.8.2)\n",
            "Requirement already satisfied: six>=1.5 in /usr/local/lib/python3.8/dist-packages (from python-dateutil>=2.1->matplotlib->japanize_matplotlib) (1.15.0)\n",
            "Building wheels for collected packages: japanize_matplotlib\n",
            "  Building wheel for japanize_matplotlib (setup.py) ... \u001b[?25l\u001b[?25hdone\n",
            "  Created wheel for japanize_matplotlib: filename=japanize_matplotlib-1.1.3-py3-none-any.whl size=4120275 sha256=fa8582236be4f8923f9ace1128a32bd5134e182bd5aa2647724e5921cc91bff7\n",
            "  Stored in directory: /root/.cache/pip/wheels/4f/ca/96/4cc5e192421cceb077fbf4ffec533382edd416fd3fa0af0bbd\n",
            "Successfully built japanize_matplotlib\n",
            "Installing collected packages: japanize_matplotlib\n",
            "Successfully installed japanize_matplotlib-1.1.3\n"
          ]
        }
      ]
    },
    {
      "cell_type": "code",
      "source": [
        "\"\"\"\n",
        "    多項式回帰による予測\n",
        "    \n",
        "    注意：このコードの実行前にに以下のコードを実行してください．\n",
        "    \n",
        "    !pip install japanize-matplotlib\n",
        "    \n",
        "\"\"\"\n",
        "\n",
        "\n",
        "\"\"\"\n",
        "モジュールのインポート\n",
        "\"\"\"\n",
        "import numpy as np  # Numpyモジュール\n",
        "import pandas as pd # Pandasモジュール\n",
        "import scipy as sp  # 数値計算用モジュール\n",
        "import matplotlib.pyplot as plt   # プロット用モジュール\n",
        "import japanize_matplotlib # 日本語表示用モジュール\n",
        "\n",
        "from sklearn.preprocessing import PolynomialFeatures # 回帰分析する入力を定める関数\n",
        "from sklearn.linear_model import LinearRegression, Ridge, Lasso\n",
        "from sklearn.metrics import r2_score # R2スコア(どれだけモデルがデータにマッチしているか)算出\n",
        "\n",
        "\"\"\"\n",
        "データの読みこみ\n",
        "\"\"\"\n",
        "input_file = 'bukka.csv'  # 読み込むファイル名\n",
        "input_data = pd.read_csv(input_file)\n",
        "input_data = np.array(input_data)\n",
        "\n",
        "years = input_data[:,0] # 年次\n",
        "bukka = input_data[:,1] # 消費者物価指数\n",
        "\n",
        "# おまじない (配列サイズを1次元から2次元に拡張)\n",
        "years = years[:,np.newaxis]\n",
        "bukka = bukka[:,np.newaxis]\n",
        "\n",
        "\"\"\"\n",
        "データの標準化\n",
        "\"\"\"\n",
        "from sklearn.preprocessing import StandardScaler\n",
        "scaler_year = StandardScaler()\n",
        "scaler_bukka = StandardScaler()\n",
        "years_std = scaler_year.fit_transform(years) # 標準化した年次\n",
        "bukka_std = scaler_bukka.fit_transform(bukka) # 標準化した消費者物価指数\n",
        "\n",
        "\"\"\"\n",
        "多項式回帰：degreeで○次関数を決める．\n",
        "\"\"\"\n",
        "# 年次を入力として消費者物価指数を予測する．\n",
        "pf1 = PolynomialFeatures(degree=2) # 2次関数(直線)を使用\n",
        "pf2 = PolynomialFeatures(degree=8) # 2次関数(直線)を使用\n",
        "pf3 = PolynomialFeatures(degree=16) # 2次関数(直線)を使用\n",
        "pf4 = PolynomialFeatures(degree=32) # 2次関数(直線)を使用\n",
        "pf_list = [pf1, pf2, pf3, pf4]\n",
        "\n",
        "# 2023年，2030年の予測\n",
        "years_future = np.array([2023,2030]) # 予測したい年のデータ\n",
        "years_future = years_future[:,np.newaxis] # おまじない\n",
        "years_future = scaler_year.transform(years_future) # 標準化\n",
        "\n",
        "# 消費者物価指数\n",
        "inputs, inputs_ft = [], []\n",
        "for pf in pf_list:\n",
        "    input_ = pf.fit_transform(years_std) # 入力を定める\n",
        "    inputs.append(input_)\n",
        "\n",
        "    input_ = pf.fit_transform(years_future) # 入力を定める\n",
        "    inputs_ft.append(input_)\n",
        "\n",
        "\n",
        "\"\"\"\n",
        "線形モデルを当てはめる\n",
        "\"\"\"\n",
        "model = LinearRegression()  # 回帰分析の準備\n",
        "\n",
        "# 線形回帰予測\n",
        "pred_lr,  pred_lr_ft = [], []\n",
        "for input_,input_ft in zip(inputs, inputs_ft):\n",
        "\n",
        "    # 学習\n",
        "    model.fit(input_, bukka_std)    # 回帰分析の実施\n",
        "    pred_= model.predict(input_)  # 回帰分析の結果を出力\n",
        "    pred_ = scaler_bukka.inverse_transform(pred_) # 標準化したデータを元に戻す\n",
        "    pred_lr.append(pred_)                     # 分析結果を入れる\n",
        "\n",
        "    # 2023年, 2030年の予測\n",
        "    pred_= model.predict(input_ft)  # 回帰分析の結果を出力\n",
        "    pred_ = scaler_bukka.inverse_transform(pred_) # 標準化したデータを元に戻す\n",
        "    pred_lr_ft.append(pred_)\n",
        "\n",
        "\"\"\"\n",
        "Ridgeモデルを当てはめる\n",
        "\"\"\"\n",
        "model = Ridge(alpha=0.5)  # 回帰分析の準備\n",
        "\n",
        "# リッジ回帰予測\n",
        "pred_rg,  pred_rg_ft = [], []\n",
        "for input_,input_ft in zip(inputs, inputs_ft):\n",
        "\n",
        "    # 学習\n",
        "    model.fit(input_, bukka_std)    # 回帰分析の実施\n",
        "    pred_= model.predict(input_)  # 回帰分析の結果を出力\n",
        "    pred_ = scaler_bukka.inverse_transform(pred_) # 標準化したデータを元に戻す\n",
        "    pred_rg.append(pred_)                     # 分析結果を入れる\n",
        "\n",
        "    # 2023年, 2030年の予測\n",
        "    pred_= model.predict(input_ft)  # 回帰分析の結果を出力\n",
        "    pred_ = scaler_bukka.inverse_transform(pred_) # 標準化したデータを元に戻す\n",
        "    pred_rg_ft.append(pred_)\n",
        "\n",
        "\n",
        "# 線形回帰の結果\n",
        "print('Linear Regression')\n",
        "plt.figure()\n",
        "plt.plot(years, bukka,'.') \n",
        "for pred_ in pred_lr:\n",
        "    r2 = r2_score(bukka, pred_)\n",
        "    print('R2 Score : {0:.2}'.format(r2))\n",
        "    plt.plot(years, pred_)  # 実データ\n",
        "    plt.xlabel('年次')\n",
        "    plt.ylabel('消費者物価指数')\n",
        "\n",
        "# Ridge回帰の結果\n",
        "print('Ridge Regression')\n",
        "plt.figure()\n",
        "plt.plot(years, bukka,'.') \n",
        "for pred_ in pred_rg:\n",
        "    r2 = r2_score(bukka, pred_)\n",
        "    print('R2 Score : {0:.2}'.format(r2))\n",
        "    plt.plot(years, pred_)  # 実データ\n",
        "    plt.xlabel('年次')\n",
        "    plt.ylabel('消費者物価指数')\n",
        "\n",
        "\n",
        "\"\"\"\n",
        "2023年，2030年の予測\n",
        "\"\"\"\n",
        "print('Linear Regression')\n",
        "for pred_ in pred_lr_ft:\n",
        "    print(' 2023年の消費者物価指数：{0:.1f} '.format(pred_[0,0]))\n",
        "    print(' 2030年の消費者物価指数：{0:.1f} '.format(pred_[1,0]))\n",
        "\n",
        "print('Ridge Regression')\n",
        "for pred_ in pred_rg_ft:\n",
        "    print(' 2023年の消費者物価指数：{0:.1f} '.format(pred_[0,0]))\n",
        "    print(' 2030年の消費者物価指数：{0:.1f} '.format(pred_[1,0]))"
      ],
      "metadata": {
        "colab": {
          "base_uri": "https://localhost:8080/",
          "height": 1000
        },
        "id": "iTkiaekJmzZ4",
        "outputId": "e54759f6-30fa-430e-c0c3-037ca4eaf581"
      },
      "execution_count": 21,
      "outputs": [
        {
          "output_type": "stream",
          "name": "stdout",
          "text": [
            "Linear Regression\n",
            "R2 Score : 0.93\n",
            "R2 Score : 1.0\n",
            "R2 Score : 1.0\n",
            "R2 Score : 1.0\n",
            "Ridge Regression\n",
            "R2 Score : 0.93\n",
            "R2 Score : 0.99\n",
            "R2 Score : 0.99\n",
            "R2 Score : 0.99\n",
            "Linear Regression\n",
            " 2023年の消費者物価指数：102.3 \n",
            " 2030年の消費者物価指数：101.6 \n",
            " 2023年の消費者物価指数：105.6 \n",
            " 2030年の消費者物価指数：175.9 \n",
            " 2023年の消費者物価指数：112.9 \n",
            " 2030年の消費者物価指数：543.6 \n",
            " 2023年の消費者物価指数：2883.6 \n",
            " 2030年の消費者物価指数：543731531.1 \n",
            "Ridge Regression\n",
            " 2023年の消費者物価指数：102.1 \n",
            " 2030年の消費者物価指数：101.4 \n",
            " 2023年の消費者物価指数：102.0 \n",
            " 2030年の消費者物価指数：53.9 \n",
            " 2023年の消費者物価指数：107.9 \n",
            " 2030年の消費者物価指数：899.6 \n",
            " 2023年の消費者物価指数：175.4 \n",
            " 2030年の消費者物価指数：1603650.5 \n"
          ]
        },
        {
          "output_type": "display_data",
          "data": {
            "text/plain": [
              "<Figure size 432x288 with 1 Axes>"
            ],
            "image/png": "[encoded data removed]"
          },
          "metadata": {
            "needs_background": "light"
          }
        },
        {
          "output_type": "display_data",
          "data": {
            "text/plain": [
              "<Figure size 432x288 with 1 Axes>"
            ],
            "image/png": "[encoded data removed]"
          },
          "metadata": {
            "needs_background": "light"
          }
        }
      ]
    }
  ]
}